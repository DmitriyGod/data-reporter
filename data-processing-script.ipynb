{
 "cells": [
  {
   "cell_type": "code",
   "execution_count": 5,
   "metadata": {},
   "outputs": [
    {
     "name": "stdout",
     "output_type": "stream",
     "text": [
      "manager_id, d_manager, d_club\n",
      "1e9c5562-0cfc-11ea-abe1-c412f533dba1, manager #8, club #2\n",
      "43756fa4-57a0-11e9-ab9a-c412f533dba1, manager #11, club #4\n",
      "543888c4-fbb3-11e9-abdc-c412f533dba1, manager #12, club #3\n",
      "5dd88f32-6501-11ea-abf3-c412f533dba1, manager #10, club #2\n",
      "9a87c608-52dc-11ea-abeb-c412f533dba1, manager #9, club #3\n",
      "abed5496-ca88-11e9-abb8-c412f533dba1, manager #5, club #4\n",
      "ad52c7a8-a752-11e7-8115-c412f533dba1, manager #7, club #1\n",
      "b55a233c-5df6-11ea-abf2-c412f533dba1, manager #2, club #4\n",
      "b832aac3-fcda-11ea-ac18-c412f533dba1, manager #13, club #3\n",
      "d12fe765-b444-11e9-abb3-c412f533dba1, manager #1, club #1\n",
      "db06b8bc-bfb2-11e7-8116-c412f533dba1, manager #4, club #2\n",
      "e463b03f-2d74-11eb-ac1f-c412f533dba1, manager #3, club #1\n",
      "f44596c6-12cd-11eb-ac1c-c412f533dba1, manager #6, club #2\n"
     ]
    }
   ],
   "source": [
    "from __future__ import print_function\n",
    "import os.path\n",
    "import httplib2\n",
    "#import apiclient.discovery\n",
    "from googleapiclient.discovery import build\n",
    "from google_auth_oauthlib.flow import InstalledAppFlow\n",
    "from google.auth.transport.requests import Request\n",
    "from google.oauth2.credentials import Credentials\n",
    "from datetime import datetime\n",
    "\n",
    "\n",
    "# If modifying these scopes, delete the file token.json.\n",
    "SCOPES = ['https://www.googleapis.com/auth/spreadsheets', 'https://www.googleapis.com/auth/drive']\n",
    "\n",
    "# The ID and range of a sample spreadsheet.\n",
    "SAMPLE_SPREADSHEET_ID = '1Ycg7zTxds9DZnDvTrFcyNNKuTUxg6Yy6WF0a8Wc02WQ'\n",
    "SAMPLE_RANGE_NAME = 'managers'\n",
    "\n",
    "def main():\n",
    "    \"\"\"Shows basic usage of the Sheets API.\n",
    "    Prints values from a sample spreadsheet.\n",
    "    \"\"\"\n",
    "    creds = None\n",
    "    # The file token.json stores the user's access and refresh tokens, and is\n",
    "    # created automatically when the authorization flow completes for the first\n",
    "    # time.\n",
    "    if os.path.exists('token.json'):\n",
    "        creds = Credentials.from_authorized_user_file('token.json', SCOPES)\n",
    "    # If there are no (valid) credentials available, let the user log in.\n",
    "    if not creds or not creds.valid:\n",
    "        if creds and creds.expired and creds.refresh_token:\n",
    "            creds.refresh(Request())\n",
    "        else:\n",
    "            flow = InstalledAppFlow.from_client_secrets_file(\n",
    "                'client_secret_852918827851-jphlh48nvfk0rairmigc9vm4kbaaeeeb.apps.googleusercontent.com.json', SCOPES)\n",
    "            creds = flow.run_local_server(port=0)\n",
    "        # Save the credentials for the next run\n",
    "        with open('token.json', 'w') as token:\n",
    "            token.write(creds.to_json())\n",
    "\n",
    "    service = build('sheets', 'v4', credentials=creds)\n",
    "\n",
    "    # Call the Sheets API\n",
    "    sheet = service.spreadsheets()\n",
    "    result = sheet.values().get(spreadsheetId=SAMPLE_SPREADSHEET_ID,\n",
    "                                range=SAMPLE_RANGE_NAME).execute()\n",
    "    values = result.get('values', [])\n",
    "\n",
    "    if not values:\n",
    "        print('No data found.')\n",
    "    else:\n",
    "        for row in values:\n",
    "            # Print columns A and E, which correspond to indices 0 and 4.\n",
    "            print('%s, %s, %s' % (row[0],row[1], row[2]))\n",
    "\n",
    "    #if __name__ == '__main__':\n",
    "    #    main()\n",
    "    \n",
    "main()\n"
   ]
  },
  {
   "cell_type": "code",
   "execution_count": null,
   "metadata": {},
   "outputs": [],
   "source": []
  }
 ],
 "metadata": {
  "kernelspec": {
   "display_name": "Python 3",
   "language": "python",
   "name": "python3"
  },
  "language_info": {
   "codemirror_mode": {
    "name": "ipython",
    "version": 3
   },
   "file_extension": ".py",
   "mimetype": "text/x-python",
   "name": "python",
   "nbconvert_exporter": "python",
   "pygments_lexer": "ipython3",
   "version": "3.7.0"
  }
 },
 "nbformat": 4,
 "nbformat_minor": 4
}
